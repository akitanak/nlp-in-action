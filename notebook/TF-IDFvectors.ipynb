{
 "cells": [
  {
   "cell_type": "markdown",
   "id": "0dd990c6-d1dc-48ec-a05e-eb59c7b8b636",
   "metadata": {},
   "source": [
    "# Natural Language Processing in Action"
   ]
  },
  {
   "cell_type": "markdown",
   "id": "96e7263a-b341-4b3f-8f10-64cfb1718a6c",
   "metadata": {},
   "source": [
    "## 3. Math with words (TF-IDF vectors)"
   ]
  },
  {
   "cell_type": "markdown",
   "id": "e735b9a3-afe6-4871-95e0-07e3ffad4815",
   "metadata": {},
   "source": [
    "### 3.1 Bag of words"
   ]
  },
  {
   "cell_type": "markdown",
   "id": "5aedb1a3-f65f-4d78-aa41-e36f6a188742",
   "metadata": {},
   "source": [
    "wordの出現回数をカウントしてみる。"
   ]
  },
  {
   "cell_type": "code",
   "execution_count": 17,
   "id": "d145ee66-b507-4faf-a3b9-c95e6c4aaf3a",
   "metadata": {},
   "outputs": [],
   "source": [
    "from nltk.tokenize import TreebankWordTokenizer"
   ]
  },
  {
   "cell_type": "code",
   "execution_count": 19,
   "id": "27129d10-e6af-458e-9990-5f848f679deb",
   "metadata": {},
   "outputs": [],
   "source": [
    "sentence = \"The faster Harry got to the store, the faster Harry, the faster, would get home.\""
   ]
  },
  {
   "cell_type": "code",
   "execution_count": 20,
   "id": "0019a919-81ab-42f7-91d9-339fe8ee2190",
   "metadata": {},
   "outputs": [],
   "source": [
    "tokenizer = TreebankWordTokenizer()\n",
    "tokens = tokenizer.tokenize(sentence.lower())"
   ]
  },
  {
   "cell_type": "code",
   "execution_count": 5,
   "id": "9c1a24f7-ca8b-4ec8-810f-48695eb6e2cd",
   "metadata": {},
   "outputs": [],
   "source": [
    "from collections import Counter\n",
    "bag_of_words = Counter(tokens)"
   ]
  },
  {
   "cell_type": "code",
   "execution_count": 6,
   "id": "fdf3809e-5469-48bd-a009-ad7613c4d92c",
   "metadata": {},
   "outputs": [
    {
     "data": {
      "text/plain": [
       "Counter({'the': 4,\n",
       "         'faster': 3,\n",
       "         'harry': 2,\n",
       "         'got': 1,\n",
       "         'to': 1,\n",
       "         'store': 1,\n",
       "         ',': 3,\n",
       "         'would': 1,\n",
       "         'get': 1,\n",
       "         'home': 1,\n",
       "         '.': 1})"
      ]
     },
     "execution_count": 6,
     "metadata": {},
     "output_type": "execute_result"
    }
   ],
   "source": [
    "bag_of_words"
   ]
  },
  {
   "cell_type": "code",
   "execution_count": 7,
   "id": "123a07d0-9426-4d69-9013-4ec469388c48",
   "metadata": {},
   "outputs": [
    {
     "data": {
      "text/plain": [
       "[('the', 4), ('faster', 3), (',', 3), ('harry', 2)]"
      ]
     },
     "execution_count": 7,
     "metadata": {},
     "output_type": "execute_result"
    }
   ],
   "source": [
    "bag_of_words.most_common(4)"
   ]
  },
  {
   "cell_type": "markdown",
   "id": "fb530585-a516-4f74-80fa-48eedef0cc82",
   "metadata": {},
   "source": [
    "与えられたドキュメント内のwordの出現回数を Term Frequency (TF) と呼ぶ。\n",
    "多くの場合、ドキュメント内の単語数で割ることで正規化する。"
   ]
  },
  {
   "cell_type": "code",
   "execution_count": 8,
   "id": "a6bfbe65-4991-4498-a2ec-3b174f707ac3",
   "metadata": {},
   "outputs": [
    {
     "data": {
      "text/plain": [
       "0.1818"
      ]
     },
     "execution_count": 8,
     "metadata": {},
     "output_type": "execute_result"
    }
   ],
   "source": [
    "times_harry_appears = bag_of_words[\"harry\"]\n",
    "num_unique_words = len(bag_of_words)\n",
    "tf = times_harry_appears / num_unique_words\n",
    "round(tf, 4)"
   ]
  },
  {
   "cell_type": "code",
   "execution_count": 15,
   "id": "032c5f04-dacb-479f-a2e5-a0485dcdb9aa",
   "metadata": {},
   "outputs": [],
   "source": [
    "kite_text = \"A kite is traditionally a tethered heavier-than-air craft with wing surfaces that react against the air to create lift and drag. A kite consists of wings, tethers, and anchors. Kites often have a bridle to guide the face of the kite at the correct angle so the wind can lift it. A kite's wing also may be so designed so a bridle is not needed; when kiting a sailplane for launch, the tether meets the wing at a single point. A kite may have fixed or moving anchors. Untraditionally in technical kiting, a kite consists of tether-set-coupled wing sets; even in technical kiting, though, a wing in the system is still often called the kite. The lift that sustains the kite in flight is generated when air flows around the kite's surface, producing low pressure above and high pressure below the wings. The interaction with the wind also generates horizontal drag along the direction of the wind. The resultant force vector from the lift and drag force components is opposed by the tension of one or more of the lines or tethers to which the kite is attached. The anchor point of the kite line may be static or moving (e.g., the towing of a kite by a running person, boat, free-falling anchors as in paragliders and fugitive parakites or vehicle). The same principles of fluid flow apply in liquids and kites are also used under water. A hybrid tethered craft comprising both a lighter-than-air balloon as well as a kite lifting surface is called a kytoon. Kites have a long and varied history and many different types are flown individually and at festivals worldwide. Kites may be flown for recreation, art or other practical uses. Sport kites can be flown in aerial ballet, sometimes as part of a competition. Power kites are multi-line steerable kites designed to generate large forces which can be used to power activities such as kite surfing, kite landboarding, kite fishing, kite buggying and a new trend snow kiting. Even Man-lifting kites have been made.\""
   ]
  },
  {
   "cell_type": "code",
   "execution_count": 16,
   "id": "045795b1-c5ff-4fe4-8784-a9fa82f17ebe",
   "metadata": {},
   "outputs": [
    {
     "ename": "NameError",
     "evalue": "name 'TreebankWordTokenizer' is not defined",
     "output_type": "error",
     "traceback": [
      "\u001b[0;31m---------------------------------------------------------------------------\u001b[0m",
      "\u001b[0;31mNameError\u001b[0m                                 Traceback (most recent call last)",
      "\u001b[0;32m<ipython-input-16-68546c790138>\u001b[0m in \u001b[0;36m<module>\u001b[0;34m\u001b[0m\n\u001b[0;32m----> 1\u001b[0;31m \u001b[0mtokenizer\u001b[0m \u001b[0;34m=\u001b[0m \u001b[0mTreebankWordTokenizer\u001b[0m\u001b[0;34m(\u001b[0m\u001b[0;34m)\u001b[0m\u001b[0;34m\u001b[0m\u001b[0;34m\u001b[0m\u001b[0m\n\u001b[0m\u001b[1;32m      2\u001b[0m \u001b[0mtokens\u001b[0m \u001b[0;34m=\u001b[0m \u001b[0mtokenizer\u001b[0m\u001b[0;34m.\u001b[0m\u001b[0mtokenize\u001b[0m\u001b[0;34m(\u001b[0m\u001b[0mkite_text\u001b[0m\u001b[0;34m.\u001b[0m\u001b[0mlower\u001b[0m\u001b[0;34m(\u001b[0m\u001b[0;34m)\u001b[0m\u001b[0;34m)\u001b[0m\u001b[0;34m\u001b[0m\u001b[0;34m\u001b[0m\u001b[0m\n\u001b[1;32m      3\u001b[0m \u001b[0mtokens_counts\u001b[0m \u001b[0;34m=\u001b[0m \u001b[0mCounter\u001b[0m\u001b[0;34m(\u001b[0m\u001b[0mtokens\u001b[0m\u001b[0;34m)\u001b[0m\u001b[0;34m\u001b[0m\u001b[0;34m\u001b[0m\u001b[0m\n",
      "\u001b[0;31mNameError\u001b[0m: name 'TreebankWordTokenizer' is not defined"
     ]
    }
   ],
   "source": [
    "tokenizer = TreebankWordTokenizer()\n",
    "tokens = tokenizer.tokenize(kite_text.lower())\n",
    "tokens_counts = Counter(tokens)"
   ]
  },
  {
   "cell_type": "code",
   "execution_count": 12,
   "id": "5749a2dc-9f29-4c2a-82e9-23744c8eedae",
   "metadata": {},
   "outputs": [
    {
     "data": {
      "text/plain": [
       "True"
      ]
     },
     "execution_count": 12,
     "metadata": {},
     "output_type": "execute_result"
    }
   ],
   "source": [
    "import nltk\n",
    "nltk.download(\"stopwords\", quiet=True)"
   ]
  },
  {
   "cell_type": "code",
   "execution_count": 13,
   "id": "31be66cc-6a90-4af2-81f1-c48dae560acc",
   "metadata": {},
   "outputs": [],
   "source": [
    "stopwords = nltk.corpus.stopwords.words(\"english\")\n",
    "tokens = [w for w in tokens if w not in stopwords]\n",
    "kite_counts = Counter(tokens)"
   ]
  },
  {
   "cell_type": "code",
   "execution_count": 17,
   "id": "4b478dbe-7e73-4881-b909-de135a43fd40",
   "metadata": {},
   "outputs": [
    {
     "data": {
      "text/plain": [
       "[('kite', 16),\n",
       " (',', 15),\n",
       " ('kites', 8),\n",
       " ('wing', 5),\n",
       " ('lift', 4),\n",
       " ('may', 4),\n",
       " ('also', 3),\n",
       " ('kiting', 3),\n",
       " ('flown', 3),\n",
       " ('tethered', 2)]"
      ]
     },
     "execution_count": 17,
     "metadata": {},
     "output_type": "execute_result"
    }
   ],
   "source": [
    "kite_counts.most_common(10)"
   ]
  },
  {
   "cell_type": "markdown",
   "id": "86ab2652-7a8d-4914-84ee-b9e602909066",
   "metadata": {},
   "source": [
    "### 3.2 Vectorizing"
   ]
  },
  {
   "cell_type": "code",
   "execution_count": 18,
   "id": "858f4f86-d7b8-4ba9-a74a-eb6c4ce75a91",
   "metadata": {},
   "outputs": [],
   "source": [
    "document_vector = []\n",
    "doc_length = len(tokens)\n",
    "for key, value in kite_counts.most_common():\n",
    "    document_vector.append(value / doc_length)"
   ]
  },
  {
   "cell_type": "code",
   "execution_count": 23,
   "id": "c342f94e-bfc5-42a1-90b3-2f1d55722666",
   "metadata": {},
   "outputs": [],
   "source": [
    "docs = [\"The faster Harry got to the store, the faster and faster Harry would get home.\"]\n",
    "docs.append(\"Harry is hairy and faster than Jill.\")\n",
    "docs.append(\"Jill is not as hairy as Harry.\")\n",
    "\n",
    "doc_tokens = [sorted(tokenizer.tokenize(doc.lower())) for doc in docs]"
   ]
  },
  {
   "cell_type": "code",
   "execution_count": 24,
   "id": "e0302e3e-6c95-4680-80cc-b61e242897d7",
   "metadata": {},
   "outputs": [
    {
     "data": {
      "text/plain": [
       "17"
      ]
     },
     "execution_count": 24,
     "metadata": {},
     "output_type": "execute_result"
    }
   ],
   "source": [
    "len(doc_tokens[0])"
   ]
  },
  {
   "cell_type": "code",
   "execution_count": 25,
   "id": "d45be625-5887-4d24-be4e-8789c665872c",
   "metadata": {},
   "outputs": [
    {
     "data": {
      "text/plain": [
       "33"
      ]
     },
     "execution_count": 25,
     "metadata": {},
     "output_type": "execute_result"
    }
   ],
   "source": [
    "all_doc_tokens = sum(doc_tokens, [])\n",
    "len(all_doc_tokens)"
   ]
  },
  {
   "cell_type": "code",
   "execution_count": 26,
   "id": "60ae70b5-40f2-4574-bb2e-d43024fc8d90",
   "metadata": {},
   "outputs": [
    {
     "data": {
      "text/plain": [
       "[',',\n",
       " '.',\n",
       " 'and',\n",
       " 'as',\n",
       " 'faster',\n",
       " 'get',\n",
       " 'got',\n",
       " 'hairy',\n",
       " 'harry',\n",
       " 'home',\n",
       " 'is',\n",
       " 'jill',\n",
       " 'not',\n",
       " 'store',\n",
       " 'than',\n",
       " 'the',\n",
       " 'to',\n",
       " 'would']"
      ]
     },
     "execution_count": 26,
     "metadata": {},
     "output_type": "execute_result"
    }
   ],
   "source": [
    "lexicon = sorted(set(all_doc_tokens))\n",
    "len(lexicon)\n",
    "lexicon"
   ]
  },
  {
   "cell_type": "code",
   "execution_count": 27,
   "id": "b2be855e-fc38-4ccd-bfa8-c6fd9257c585",
   "metadata": {},
   "outputs": [],
   "source": [
    "from collections import OrderedDict\n",
    "import copy\n",
    "\n",
    "zero_vector = OrderedDict((token, 0) for token in lexicon)\n",
    "doc_vectors = []\n",
    "for doc in docs:\n",
    "    vec = copy.copy(zero_vector)\n",
    "    tokens = tokenizer.tokenize(doc.lower())\n",
    "    token_counts = Counter(tokens)\n",
    "    for key, value in token_counts.items():\n",
    "        vec[key] = value / len(lexicon)\n",
    "    doc_vectors.append(vec)"
   ]
  },
  {
   "cell_type": "code",
   "execution_count": 28,
   "id": "9700ca8e-c9c5-4843-8ce3-fd3aa5371007",
   "metadata": {},
   "outputs": [
    {
     "data": {
      "text/plain": [
       "[OrderedDict([(',', 0.05555555555555555),\n",
       "              ('.', 0.05555555555555555),\n",
       "              ('and', 0.05555555555555555),\n",
       "              ('as', 0),\n",
       "              ('faster', 0.16666666666666666),\n",
       "              ('get', 0.05555555555555555),\n",
       "              ('got', 0.05555555555555555),\n",
       "              ('hairy', 0),\n",
       "              ('harry', 0.1111111111111111),\n",
       "              ('home', 0.05555555555555555),\n",
       "              ('is', 0),\n",
       "              ('jill', 0),\n",
       "              ('not', 0),\n",
       "              ('store', 0.05555555555555555),\n",
       "              ('than', 0),\n",
       "              ('the', 0.16666666666666666),\n",
       "              ('to', 0.05555555555555555),\n",
       "              ('would', 0.05555555555555555)]),\n",
       " OrderedDict([(',', 0),\n",
       "              ('.', 0.05555555555555555),\n",
       "              ('and', 0.05555555555555555),\n",
       "              ('as', 0),\n",
       "              ('faster', 0.05555555555555555),\n",
       "              ('get', 0),\n",
       "              ('got', 0),\n",
       "              ('hairy', 0.05555555555555555),\n",
       "              ('harry', 0.05555555555555555),\n",
       "              ('home', 0),\n",
       "              ('is', 0.05555555555555555),\n",
       "              ('jill', 0.05555555555555555),\n",
       "              ('not', 0),\n",
       "              ('store', 0),\n",
       "              ('than', 0.05555555555555555),\n",
       "              ('the', 0),\n",
       "              ('to', 0),\n",
       "              ('would', 0)]),\n",
       " OrderedDict([(',', 0),\n",
       "              ('.', 0.05555555555555555),\n",
       "              ('and', 0),\n",
       "              ('as', 0.1111111111111111),\n",
       "              ('faster', 0),\n",
       "              ('get', 0),\n",
       "              ('got', 0),\n",
       "              ('hairy', 0.05555555555555555),\n",
       "              ('harry', 0.05555555555555555),\n",
       "              ('home', 0),\n",
       "              ('is', 0.05555555555555555),\n",
       "              ('jill', 0.05555555555555555),\n",
       "              ('not', 0.05555555555555555),\n",
       "              ('store', 0),\n",
       "              ('than', 0),\n",
       "              ('the', 0),\n",
       "              ('to', 0),\n",
       "              ('would', 0)])]"
      ]
     },
     "execution_count": 28,
     "metadata": {},
     "output_type": "execute_result"
    }
   ],
   "source": [
    "doc_vectors"
   ]
  },
  {
   "cell_type": "markdown",
   "id": "4629fc70-7d90-4f85-958e-5e5bccdcc236",
   "metadata": {},
   "source": [
    "#### 3.2.1 Vector spaces"
   ]
  },
  {
   "cell_type": "markdown",
   "id": "54870b80-5c31-4be7-ad8d-39460edf3d5f",
   "metadata": {},
   "source": [
    "NLPではコーパス中に出現する個別の単語数が次元数となる。この次元数をNLP界隈では \"K\" で表す。例えば、3.2の3つの例文から作られたベクトルの次元数は `K = 18` となる。"
   ]
  },
  {
   "cell_type": "markdown",
   "id": "7b084626-5b9a-4dde-abc7-d15aa343ba2d",
   "metadata": {},
   "source": [
    "２つのベクトルの類似度を測るために、コサイン類似度を使う。\n",
    "\n",
    "cosΘ = A・B / |A||B|"
   ]
  },
  {
   "cell_type": "code",
   "execution_count": 128,
   "id": "081f6404-79fb-45a3-b57e-c8a862e05cfe",
   "metadata": {},
   "outputs": [],
   "source": [
    "import math\n",
    "\n",
    "def cosine_sim(vec1, vec2):\n",
    "    vec1 = [val for val in vec1.values()]\n",
    "    vec2 = [val for val in vec2.values()]\n",
    "    \n",
    "    dot_prod = 0\n",
    "    for i, v in enumerate(vec1):\n",
    "        dot_prod += v * vec2[i]\n",
    "    \n",
    "    mag_1 = math.sqrt(sum([x**2 for x in vec1]))\n",
    "    mag_2 = math.sqrt(sum([x**2 for x in vec2]))\n",
    "    \n",
    "    return dot_prod / (mag_1 * mag_2)"
   ]
  },
  {
   "cell_type": "code",
   "execution_count": 7,
   "id": "59691e3a-49f2-4e31-b140-d14122f37405",
   "metadata": {},
   "outputs": [
    {
     "data": {
      "text/plain": [
       "0.7071067811865475"
      ]
     },
     "execution_count": 7,
     "metadata": {},
     "output_type": "execute_result"
    }
   ],
   "source": [
    "v1 = {\"a\": 1, \"b\": 0}\n",
    "v2 = {\"a\": 1, \"b\": 1}\n",
    "cosine_sim(v1, v2)"
   ]
  },
  {
   "cell_type": "markdown",
   "id": "97232dd4-b515-4148-8413-f2b6f5857408",
   "metadata": {},
   "source": [
    "### 3.3 Zipf's Law"
   ]
  },
  {
   "cell_type": "markdown",
   "id": "f0924784-85ca-406d-bea8-d12f0733c250",
   "metadata": {},
   "source": [
    "単語の出現頻度はその順位に反比例するという法則。例えば、k番目の単語であれば、1番多い単語と比較して1/k程度の頻度になる。"
   ]
  },
  {
   "cell_type": "code",
   "execution_count": 9,
   "id": "ecc492e4-76d2-49bb-bea9-d098cd1ae2d9",
   "metadata": {},
   "outputs": [
    {
     "name": "stderr",
     "output_type": "stream",
     "text": [
      "[nltk_data] Downloading package brown to /Users/akitanak/nltk_data...\n",
      "[nltk_data]   Unzipping corpora/brown.zip.\n"
     ]
    },
    {
     "data": {
      "text/plain": [
       "['The',\n",
       " 'Fulton',\n",
       " 'County',\n",
       " 'Grand',\n",
       " 'Jury',\n",
       " 'said',\n",
       " 'Friday',\n",
       " 'an',\n",
       " 'investigation',\n",
       " 'of']"
      ]
     },
     "execution_count": 9,
     "metadata": {},
     "output_type": "execute_result"
    }
   ],
   "source": [
    "import nltk\n",
    "nltk.download(\"brown\")\n",
    "from nltk.corpus import brown\n",
    "brown.words()[:10]"
   ]
  },
  {
   "cell_type": "code",
   "execution_count": 10,
   "id": "91224819-7506-4008-923f-9e6d6f0d7f93",
   "metadata": {},
   "outputs": [
    {
     "data": {
      "text/plain": [
       "[('The', 'AT'),\n",
       " ('Fulton', 'NP-TL'),\n",
       " ('County', 'NN-TL'),\n",
       " ('Grand', 'JJ-TL'),\n",
       " ('Jury', 'NN-TL')]"
      ]
     },
     "execution_count": 10,
     "metadata": {},
     "output_type": "execute_result"
    }
   ],
   "source": [
    "brown.tagged_words()[:5]"
   ]
  },
  {
   "cell_type": "code",
   "execution_count": 11,
   "id": "b5c86acf-d3bf-475c-a718-9aff02723fb6",
   "metadata": {},
   "outputs": [
    {
     "data": {
      "text/plain": [
       "1161192"
      ]
     },
     "execution_count": 11,
     "metadata": {},
     "output_type": "execute_result"
    }
   ],
   "source": [
    "len(brown.words())"
   ]
  },
  {
   "cell_type": "code",
   "execution_count": 13,
   "id": "4d5d5c4d-f116-4de4-9769-66ef6a48f453",
   "metadata": {},
   "outputs": [
    {
     "data": {
      "text/plain": [
       "[('the', 69971),\n",
       " ('of', 36412),\n",
       " ('and', 28853),\n",
       " ('to', 26158),\n",
       " ('a', 23195),\n",
       " ('in', 21337),\n",
       " ('that', 10594),\n",
       " ('is', 10109),\n",
       " ('was', 9815),\n",
       " ('he', 9548),\n",
       " ('for', 9489),\n",
       " ('it', 8760),\n",
       " ('with', 7289),\n",
       " ('as', 7253),\n",
       " ('his', 6996),\n",
       " ('on', 6741),\n",
       " ('be', 6377),\n",
       " ('at', 5372),\n",
       " ('by', 5306),\n",
       " ('i', 5164)]"
      ]
     },
     "execution_count": 13,
     "metadata": {},
     "output_type": "execute_result"
    }
   ],
   "source": [
    "from collections import Counter\n",
    "puncs = set((\",\", \".\", \"--\", \"-\", \"!\", \"?\", \":\", \";\", \"``\", \"''\", \"(\", \")\", \"[\", \"]\"))\n",
    "word_list = (x.lower() for x in brown.words() if x not in puncs)\n",
    "token_counts = Counter(word_list)\n",
    "token_counts.most_common(20)"
   ]
  },
  {
   "cell_type": "markdown",
   "id": "b8adbc6d-ea8a-408e-9374-78938d3e1b4a",
   "metadata": {},
   "source": [
    "## 3.4 Topic modeling\n",
    "出現頻度は高いがコーパス全体に渡って登場するような単語はあまり新たな情報があるとは言えない。特定のドキュメントに頻繁に登場するが、コーパス全体に渡って登場するわけではない単語はそのドキュメントの特徴を表していると言える。\n",
    "\n",
    "IDF(Inverse Document Frequency)"
   ]
  },
  {
   "cell_type": "code",
   "execution_count": 22,
   "id": "8cee5003-3415-421f-9138-58c59163c1e6",
   "metadata": {},
   "outputs": [],
   "source": [
    "kite_text = \"A kite is traditionally a tethered heavier-than-air craft with wing surfaces that react against the air to create lift and drag. A kite consists of wings, tethers, and anchors. Kites often have a bridle to guide the face of the kite at the correct angle so the wind can lift it. A kite's wing also may be so designed so a bridle is not needed; when kiting a sailplane for launch, the tether meets the wing at a single point. A kite may have fixed or moving anchors. Untraditionally in technical kiting, a kite consists of tether-set-coupled wing sets; even in technical kiting, though, a wing in the system is still often called the kite. The lift that sustains the kite in flight is generated when air flows around the kite's surface, producing low pressure above and high pressure below the wings. The interaction with the wind also generates horizontal drag along the direction of the wind. The resultant force vector from the lift and drag force components is opposed by the tension of one or more of the lines or tethers to which the kite is attached. The anchor point of the kite line may be static or moving (e.g., the towing of a kite by a running person, boat, free-falling anchors as in paragliders and fugitive parakites or vehicle). The same principles of fluid flow apply in liquids and kites are also used under water. A hybrid tethered craft comprising both a lighter-than-air balloon as well as a kite lifting surface is called a kytoon. Kites have a long and varied history and many different types are flown individually and at festivals worldwide. Kites may be flown for recreation, art or other practical uses. Sport kites can be flown in aerial ballet, sometimes as part of a competition. Power kites are multi-line steerable kites designed to generate large forces which can be used to power activities such as kite surfing, kite landboarding, kite fishing, kite buggying and a new trend snow kiting. Even Man-lifting kites have been made.\"\n",
    "kite_history = \"\"\"Kites were invented in China, where materials ideal for kite building were readily available: silk fabric for sail material; fine, high-tensile-strength silk for flying line; and resilient bamboo for a strong, lightweight framework.\n",
    "The kite has been claimed as the invention of the 5th-century BC Chinese philosophers Mozi (also Mo Di) and Lu Ban (also Gongshu Ban). By 549 AD paper kites were certainly being flown, as it was recorded that in that year a paper kite was used as a message for a rescue mission. Ancient and medieval Chinese sources describe kites being used for measuring distances, testing the wind, lifting men, signaling, and communication for military operations. The earliest known Chinese kites were flat (not bowed) and often rectangular. Later, tailless kites incorporated a stabilizing bowline. Kites were decorated with mythological motifs and legendary figures; some were fitted with strings and whistles to make musical sounds while flying. From China, kites were introduced to Cambodia, Thailand, India, Japan, Korea and the western world.\n",
    "After its introduction into India, the kite further evolved into the fighter kite, known as the patang in India, where thousands are flown every year on festivals such as Makar Sankranti.\n",
    "Kites were known throughout Polynesia, as far as New Zealand, with the assumption being that the knowledge diffused from China along with the people. Anthropomorphic kites made from cloth and wood were used in religious ceremonies to send prayers to the gods. Polynesian kite traditions are used by anthropologists get an idea of early “primitive” Asian traditions that are believed to have at one time existed in Asia.\"\"\""
   ]
  },
  {
   "cell_type": "code",
   "execution_count": 38,
   "id": "78885353-2435-4eb3-bdf8-08abde9810a0",
   "metadata": {},
   "outputs": [
    {
     "name": "stdout",
     "output_type": "stream",
     "text": [
      "intro; 363, history; 295\n"
     ]
    }
   ],
   "source": [
    "kite_intro = kite_text.lower()\n",
    "intro_tokens = tokenizer.tokenize(kite_intro)\n",
    "\n",
    "kite_history = kite_history.lower()\n",
    "history_tokens = tokenizer.tokenize(kite_history)\n",
    "\n",
    "# ドキュメント内の単語数\n",
    "intro_total = len(intro_tokens)\n",
    "history_total = len(history_tokens)\n",
    "print(f\"intro; {intro_total}, history; {history_total}\")"
   ]
  },
  {
   "cell_type": "code",
   "execution_count": 39,
   "id": "e99bed34-3933-4a46-95b9-d882ee76a8b9",
   "metadata": {},
   "outputs": [
    {
     "name": "stdout",
     "output_type": "stream",
     "text": [
      "Term Frequency of 'kite' in intro is 0.0441\n",
      "Term Frequency of 'kite' in history is 0.0203\n"
     ]
    }
   ],
   "source": [
    "# 各ドキュメントのTF(Term Frequency)を計算する\n",
    "intro_tf = {}\n",
    "history_tf = {}\n",
    "intro_counts = Counter(intro_tokens)\n",
    "intro_tf[\"kite\"] = intro_counts[\"kite\"] / intro_total\n",
    "history_counts = Counter(history_tokens)\n",
    "history_tf[\"kite\"] = history_counts[\"kite\"] / history_total\n",
    "print(f\"Term Frequency of 'kite' in intro is {intro_tf['kite']:.4f}\")\n",
    "print(f\"Term Frequency of 'kite' in history is {history_tf['kite']:.4f}\")"
   ]
  },
  {
   "cell_type": "code",
   "execution_count": 47,
   "id": "88bdabfe-863b-4e10-8aa1-d426242f2255",
   "metadata": {},
   "outputs": [
    {
     "name": "stdout",
     "output_type": "stream",
     "text": [
      "Term Frequency of 'and' in intro is 0.0275\n",
      "Term Frequency of 'and' in history is 0.0305\n"
     ]
    }
   ],
   "source": [
    "intro_tf[\"and\"] = intro_counts[\"and\"] / intro_total\n",
    "history_tf[\"and\"] = history_counts[\"and\"] / history_total\n",
    "print(f\"Term Frequency of 'and' in intro is {intro_tf['and']:.4f}\")\n",
    "print(f\"Term Frequency of 'and' in history is {history_tf['and']:.4f}\")"
   ]
  },
  {
   "cell_type": "code",
   "execution_count": 40,
   "id": "6c7ef838-a3cf-4859-9af7-1569d6129ba5",
   "metadata": {},
   "outputs": [],
   "source": [
    "num_docs_containing_and = 0\n",
    "num_docs_containing_kite = 0\n",
    "num_docs_containing_china = 0\n",
    "for doc in [intro_tokens, history_tokens]:\n",
    "    if \"and\" in doc:\n",
    "        num_docs_containing_and += 1\n",
    "    if \"kite\" in doc:\n",
    "        num_docs_containing_kite += 1\n",
    "    if \"china\" in doc:\n",
    "        num_docs_containing_china += 1"
   ]
  },
  {
   "cell_type": "code",
   "execution_count": 42,
   "id": "8ab8c6f6-e1cf-41ba-9542-63302678c39f",
   "metadata": {},
   "outputs": [
    {
     "name": "stdout",
     "output_type": "stream",
     "text": [
      "num_docs_containing_and: 2\n",
      "num_docs_containing_kite: 2\n",
      "num_docs_containing_china: 1\n"
     ]
    }
   ],
   "source": [
    "print(f\"num_docs_containing_and: {num_docs_containing_and}\")\n",
    "print(f\"num_docs_containing_kite: {num_docs_containing_kite}\")\n",
    "print(f\"num_docs_containing_china: {num_docs_containing_china}\")"
   ]
  },
  {
   "cell_type": "code",
   "execution_count": 41,
   "id": "cd2fb6cb-3106-4c50-afc3-3e775307999c",
   "metadata": {},
   "outputs": [],
   "source": [
    "intro_tf[\"china\"] = intro_counts[\"china\"] / intro_total\n",
    "history_tf[\"china\"] = history_counts[\"china\"] / history_total"
   ]
  },
  {
   "cell_type": "markdown",
   "id": "b60101d2-b92a-4e7e-a25a-29bf0122980a",
   "metadata": {},
   "source": [
    "IDFはその単語がそのドキュメントに含まれることがどれだけ稀有であるかを表すと考えることができる。ある単語が特定のドキュメントでは頻繁に現れるがコーパスの他のドキュメントではあまり現れない場合、そのドキュメントにとってその単語は重要であると考えることができる。"
   ]
  },
  {
   "cell_type": "code",
   "execution_count": 48,
   "id": "4ee90e08-0205-4f9d-818b-e1bc2ac302fe",
   "metadata": {},
   "outputs": [],
   "source": [
    "num_docs = 2\n",
    "intro_idf = {}\n",
    "history_idf = {}\n",
    "intro_idf[\"and\"] = num_docs / num_docs_containing_and\n",
    "history_idf[\"and\"] = num_docs / num_docs_containing_and\n",
    "intro_idf[\"kite\"] = num_docs / num_docs_containing_kite\n",
    "history_idf[\"kite\"] = num_docs / num_docs_containing_kite\n",
    "intro_idf[\"china\"] = num_docs / num_docs_containing_china\n",
    "history_idf[\"china\"] = num_docs / num_docs_containing_china"
   ]
  },
  {
   "cell_type": "code",
   "execution_count": 49,
   "id": "e849a3f4-e9e2-4912-b6e3-e110848ac0d0",
   "metadata": {},
   "outputs": [],
   "source": [
    "intro_tfidf = {}\n",
    "intro_tfidf[\"and\"] = intro_tf[\"and\"] * intro_idf[\"and\"]\n",
    "intro_tfidf[\"kite\"] = intro_tf[\"kite\"] * intro_idf[\"kite\"]\n",
    "intro_tfidf[\"china\"] = intro_tf[\"china\"] * intro_idf[\"china\"]"
   ]
  },
  {
   "cell_type": "code",
   "execution_count": 50,
   "id": "98b6700c-6eb7-4d79-9aa1-0437e2a7b951",
   "metadata": {},
   "outputs": [],
   "source": [
    "history_tfidf = {}\n",
    "history_tfidf[\"and\"] = history_tf[\"and\"] * history_idf[\"and\"]\n",
    "history_tfidf[\"kite\"] = history_tf[\"kite\"] * history_idf[\"kite\"]\n",
    "history_tfidf[\"china\"] = history_tf[\"china\"] * history_idf[\"china\"]"
   ]
  },
  {
   "cell_type": "code",
   "execution_count": 51,
   "id": "8e8512ba-861a-40d4-a4da-e2e5c3b039de",
   "metadata": {},
   "outputs": [
    {
     "name": "stdout",
     "output_type": "stream",
     "text": [
      "{'kite': 0.0440771349862259, 'china': 0.0, 'and': 0.027548209366391185}\n",
      "{'and': 1.0, 'kite': 1.0, 'china': 2.0}\n",
      "{'and': 0.027548209366391185, 'kite': 0.0440771349862259, 'china': 0.0}\n"
     ]
    }
   ],
   "source": [
    "print(intro_tf)\n",
    "print(intro_idf)\n",
    "print(intro_tfidf)"
   ]
  },
  {
   "cell_type": "code",
   "execution_count": 52,
   "id": "da0f74e8-7076-489c-a112-31377b56d3ff",
   "metadata": {},
   "outputs": [
    {
     "name": "stdout",
     "output_type": "stream",
     "text": [
      "{'kite': 0.020338983050847456, 'china': 0.010169491525423728, 'and': 0.030508474576271188}\n",
      "{'and': 1.0, 'kite': 1.0, 'china': 2.0}\n",
      "{'and': 0.030508474576271188, 'kite': 0.020338983050847456, 'china': 0.020338983050847456}\n"
     ]
    }
   ],
   "source": [
    "print(history_tf)\n",
    "print(history_idf)\n",
    "print(history_tfidf)"
   ]
  },
  {
   "cell_type": "markdown",
   "id": "03ba37a2-d0aa-49ce-89a8-496d62eaffdd",
   "metadata": {},
   "source": [
    "### 3.4.1 Return of Zipf"
   ]
  },
  {
   "cell_type": "markdown",
   "id": "fc95776f-a911-41c9-b9e2-ec3c966219fb",
   "metadata": {},
   "source": [
    "term: t,\n",
    "document: d,\n",
    "corpus: D\n",
    "\n",
    "$\n",
    "\\begin{align}\n",
    "\\mathrm{tf}(t, d) = \\frac{count(t)}{count(d)}\n",
    "\\end{align}\n",
    "$\n",
    "\n",
    "$\n",
    "\\begin{align}\n",
    "\\mathrm{idf}(t, D) = \\log \\frac{\\mathrm{number\\ of\\ documents}}{\\mathrm{number\\ of\\ documents\\ containing}\\ t}\n",
    "\\end{align}\n",
    "$\n",
    "\n",
    "$\n",
    "\\begin{align}\n",
    "\\mathrm{tfidf}(t, d, D) = \\mathrm{tf}(t, d) * \\mathrm{idf}(t, D)\n",
    "\\end{align}\n",
    "$"
   ]
  },
  {
   "cell_type": "code",
   "execution_count": 89,
   "id": "2409cff4-93c1-4f56-9593-05278d8b4999",
   "metadata": {},
   "outputs": [],
   "source": [
    "docs = {\"intro\": tokenizer.tokenize(kite_intro), \"history\": tokenizer.tokenize(kite_history)}"
   ]
  },
  {
   "cell_type": "code",
   "execution_count": 124,
   "id": "daddaa67-482c-482d-bb28-b348e2ae559d",
   "metadata": {},
   "outputs": [],
   "source": [
    "def tf(doc):\n",
    "    count_doc = len(doc)\n",
    "    count_terms = Counter(doc)\n",
    "    return {term: count_term / count_doc for term, count_term in count_terms.items()}\n",
    "\n",
    "tfs = {key: tf(doc) for key, doc in docs.items()}"
   ]
  },
  {
   "cell_type": "code",
   "execution_count": 125,
   "id": "435a952d-500d-4106-b780-b263adaa6431",
   "metadata": {},
   "outputs": [],
   "source": [
    "from math import log\n",
    "from functools import reduce\n",
    "\n",
    "terms = set(reduce(lambda x, y: x + y, docs.values(), []))\n",
    "\n",
    "def idf(docs, term):\n",
    "    return log(len(docs) / len([True for doc in docs if term in doc]))\n",
    "\n",
    "idfs = {term: idf(docs.values(), term) for term in terms}"
   ]
  },
  {
   "cell_type": "code",
   "execution_count": 126,
   "id": "becc8111-e26e-4f79-8456-62949eb9ac57",
   "metadata": {},
   "outputs": [],
   "source": [
    "def tfidf(tf, idf):\n",
    "    return {term: tf_value * idfs[term] for term, tf_value in tf.items()}\n",
    "\n",
    "tfidfs = {key: tfidf(tf, idf) for key, tf in tfs.items()}"
   ]
  },
  {
   "cell_type": "code",
   "execution_count": 106,
   "id": "117fb753-b009-4296-b8c9-4732e8346920",
   "metadata": {},
   "outputs": [],
   "source": [
    "tfidfs = {key: dict(sorted(tfidf.items(), key=lambda x: x[1], reverse=True)) for key, tfidf in tfidfs.items()}"
   ]
  },
  {
   "cell_type": "markdown",
   "id": "2b69425c-abf6-4f9c-9041-932c240729c0",
   "metadata": {},
   "source": [
    "### 3.4.2 Relevance ranking"
   ]
  },
  {
   "cell_type": "markdown",
   "id": "474c1793-3eec-49bf-8cb8-c88b2101e6dc",
   "metadata": {},
   "source": [
    "前の章で単純な単語の出現数のカウントによるベクトルを作ったが、TF-IDFほど意味のあるものではなかった。\n",
    "ここではまず、単語の出現回数を使っていたものをTF-IDFを使うようにしてみる。"
   ]
  },
  {
   "cell_type": "code",
   "execution_count": 127,
   "id": "269eec61-4c93-4f13-b5fa-4d450e2135db",
   "metadata": {},
   "outputs": [],
   "source": [
    "from collections import OrderedDict\n",
    "import copy\n",
    "\n",
    "document_tfidf_vectors = []\n",
    "harry_docs = [\n",
    "    \"The faster Harry got to the store, the faster and faster Harry would get home.\",\n",
    "    \"Harry is hairy and faster than Jill.\",\n",
    "    \"Jill is not as hairy as Harry.\"\n",
    "]\n",
    "doc_tokens = [sorted(tokenizer.tokenize(doc.lower())) for doc in harry_docs]\n",
    "all_doc_tokens = sum(doc_tokens, [])\n",
    "lexicon = sorted(set(all_doc_tokens))\n",
    "zero_vector = OrderedDict((token, 0) for token in lexicon)\n",
    "tfs = [tf(tokens) for tokens in doc_tokens]\n",
    "idfs = {term: idf(doc_tokens, term) for term in all_doc_tokens}\n",
    "\n",
    "for tf_dict in tfs:\n",
    "    vec = copy.copy(zero_vector)\n",
    "    for term, tf_value in tf_dict.items():\n",
    "        vec[term] = tf_value * idfs[term]\n",
    "    document_tfidf_vectors.append(vec)"
   ]
  },
  {
   "cell_type": "code",
   "execution_count": 121,
   "id": "4f005d02-bfbe-4dc1-9d81-f55722f76f47",
   "metadata": {},
   "outputs": [
    {
     "data": {
      "text/plain": [
       "[OrderedDict([(',', 0.06462425227459469),\n",
       "              ('.', 0.0),\n",
       "              ('and', 0.023850888712244965),\n",
       "              ('as', 0),\n",
       "              ('faster', 0.0715526661367349),\n",
       "              ('get', 0.06462425227459469),\n",
       "              ('got', 0.06462425227459469),\n",
       "              ('hairy', 0),\n",
       "              ('harry', 0.0),\n",
       "              ('home', 0.06462425227459469),\n",
       "              ('is', 0),\n",
       "              ('jill', 0),\n",
       "              ('not', 0),\n",
       "              ('store', 0.06462425227459469),\n",
       "              ('than', 0),\n",
       "              ('the', 0.1938727568237841),\n",
       "              ('to', 0.06462425227459469),\n",
       "              ('would', 0.06462425227459469)]),\n",
       " OrderedDict([(',', 0),\n",
       "              ('.', 0.0),\n",
       "              ('and', 0.05068313851352055),\n",
       "              ('as', 0),\n",
       "              ('faster', 0.05068313851352055),\n",
       "              ('get', 0),\n",
       "              ('got', 0),\n",
       "              ('hairy', 0.05068313851352055),\n",
       "              ('harry', 0.0),\n",
       "              ('home', 0),\n",
       "              ('is', 0.05068313851352055),\n",
       "              ('jill', 0.05068313851352055),\n",
       "              ('not', 0),\n",
       "              ('store', 0),\n",
       "              ('than', 0.13732653608351372),\n",
       "              ('the', 0),\n",
       "              ('to', 0),\n",
       "              ('would', 0)]),\n",
       " OrderedDict([(',', 0),\n",
       "              ('.', 0.0),\n",
       "              ('and', 0),\n",
       "              ('as', 0.27465307216702745),\n",
       "              ('faster', 0),\n",
       "              ('get', 0),\n",
       "              ('got', 0),\n",
       "              ('hairy', 0.05068313851352055),\n",
       "              ('harry', 0.0),\n",
       "              ('home', 0),\n",
       "              ('is', 0.05068313851352055),\n",
       "              ('jill', 0.05068313851352055),\n",
       "              ('not', 0.13732653608351372),\n",
       "              ('store', 0),\n",
       "              ('than', 0),\n",
       "              ('the', 0),\n",
       "              ('to', 0),\n",
       "              ('would', 0)])]"
      ]
     },
     "execution_count": 121,
     "metadata": {},
     "output_type": "execute_result"
    }
   ],
   "source": []
  },
  {
   "cell_type": "code",
   "execution_count": 147,
   "id": "d218bc57-2ec9-4b0b-8823-c7eb7f4261a0",
   "metadata": {},
   "outputs": [],
   "source": [
    "query = \"How long does it take to get to the store?\"\n",
    "query_vec = copy.copy(zero_vector)\n",
    "query_tokens = tokenizer.tokenize(query.lower())\n",
    "\n",
    "query_tf = tf(query_tokens)\n",
    "query_idfs = {}\n",
    "for term in query_tokens:\n",
    "    try:\n",
    "        query_idfs[term] = idf(doc_tokens, term)\n",
    "    except:\n",
    "        continue\n",
    "\n",
    "for token, tf_value in query_tf.items():\n",
    "    if query_idfs.get(token):\n",
    "        query_vec[token] = tf_value * query_idfs[token]"
   ]
  },
  {
   "cell_type": "code",
   "execution_count": 148,
   "id": "6b6484f3-6df3-406e-84f6-7e520141a582",
   "metadata": {},
   "outputs": [
    {
     "data": {
      "text/plain": [
       "0.6349617106273504"
      ]
     },
     "execution_count": 148,
     "metadata": {},
     "output_type": "execute_result"
    }
   ],
   "source": [
    "cosine_sim(query_vec, document_tfidf_vectors[0])"
   ]
  },
  {
   "cell_type": "code",
   "execution_count": 149,
   "id": "e38d6b8e-4bbe-40f3-9c67-79e8fa1828f0",
   "metadata": {},
   "outputs": [
    {
     "data": {
      "text/plain": [
       "0.0"
      ]
     },
     "execution_count": 149,
     "metadata": {},
     "output_type": "execute_result"
    }
   ],
   "source": [
    "cosine_sim(query_vec, document_tfidf_vectors[1])"
   ]
  },
  {
   "cell_type": "code",
   "execution_count": 150,
   "id": "d5a08485-5f00-41c1-a994-e72847c670ce",
   "metadata": {},
   "outputs": [
    {
     "data": {
      "text/plain": [
       "0.0"
      ]
     },
     "execution_count": 150,
     "metadata": {},
     "output_type": "execute_result"
    }
   ],
   "source": [
    "cosine_sim(query_vec, document_tfidf_vectors[2])"
   ]
  },
  {
   "cell_type": "markdown",
   "id": "354bfe5b-fa94-45ff-b3c2-6dd3c5c690c4",
   "metadata": {},
   "source": [
    "### 3.4.3 Tools"
   ]
  },
  {
   "cell_type": "markdown",
   "id": "741e210b-0e53-4538-b16f-4a020b7d7b39",
   "metadata": {},
   "source": [
    "scikit-learn の[feature extractionライブラリ](https://scikit-learn.org/stable/modules/feature_extraction.html#feature-extraction)の中に[text向けのもの](https://scikit-learn.org/stable/modules/feature_extraction.html#text-feature-extraction)があり、その一つとして[TF-IDFでベクトル化するモジュール](https://scikit-learn.org/stable/modules/feature_extraction.html#tfidf-term-weighting)が存在する。"
   ]
  },
  {
   "cell_type": "code",
   "execution_count": 153,
   "id": "a6240f03-ce1f-43fa-8be4-b6e670fa67b4",
   "metadata": {},
   "outputs": [
    {
     "name": "stdout",
     "output_type": "stream",
     "text": [
      "[[0.16 0.   0.48 0.21 0.21 0.   0.25 0.21 0.   0.   0.   0.21 0.   0.64\n",
      "  0.21 0.21]\n",
      " [0.37 0.   0.37 0.   0.   0.37 0.29 0.   0.37 0.37 0.   0.   0.49 0.\n",
      "  0.   0.  ]\n",
      " [0.   0.75 0.   0.   0.   0.29 0.22 0.   0.29 0.29 0.38 0.   0.   0.\n",
      "  0.   0.  ]]\n"
     ]
    }
   ],
   "source": [
    "from sklearn.feature_extraction.text import TfidfVectorizer\n",
    "corpus = harry_docs\n",
    "vectorizer = TfidfVectorizer(min_df=1)\n",
    "model = vectorizer.fit_transform(corpus)\n",
    "print(model.todense().round(2))"
   ]
  },
  {
   "cell_type": "code",
   "execution_count": 156,
   "id": "2a8932e8-c435-4562-8c6b-3e9dd37f5336",
   "metadata": {},
   "outputs": [
    {
     "data": {
      "text/plain": [
       "['and',\n",
       " 'as',\n",
       " 'faster',\n",
       " 'get',\n",
       " 'got',\n",
       " 'hairy',\n",
       " 'harry',\n",
       " 'home',\n",
       " 'is',\n",
       " 'jill',\n",
       " 'not',\n",
       " 'store',\n",
       " 'than',\n",
       " 'the',\n",
       " 'to',\n",
       " 'would']"
      ]
     },
     "execution_count": 156,
     "metadata": {},
     "output_type": "execute_result"
    }
   ],
   "source": [
    "# get_feature_names() で各カラムがどの単語に対応しているのか確認できる。\n",
    "vectorizer.get_feature_names()"
   ]
  },
  {
   "cell_type": "markdown",
   "id": "2f0ea240-d802-4883-a0fa-8c7ce8899d74",
   "metadata": {},
   "source": [
    "### 3.4.4 Alternatives"
   ]
  },
  {
   "cell_type": "markdown",
   "id": "82bb9718-231a-469f-844f-b8e7e95d5cc4",
   "metadata": {},
   "source": [
    "TF-IDFマトリクスは数十年の間、情報検索の主力であり、研究者や企業によって検索結果の関連性の向上のために、IDF部分の最適化に時間が費やされてきた。その結果、多くの単語の頻度の重みを正規化および平準化する方法が生み出された。\n",
    "\n",
    "参考: [\"Word Embedding Past, Present and Future\"](https://href.li/?https://youtu.be/edisTBOPBq0)\n",
    "\n",
    "その中でも検索結果をランク付けする方法について、ストレートにTF-IDFのコサイン類似度の代替となる方法はOkapi BM25もしくはその最新のバリエーションであるBM25Fである。"
   ]
  },
  {
   "cell_type": "markdown",
   "id": "5fe443cb-e57c-4006-8c03-5f48789cee33",
   "metadata": {},
   "source": [
    "### 3.4.5 Okapi BM25"
   ]
  },
  {
   "cell_type": "markdown",
   "id": "d5078cec-13a2-4ff4-82f0-75f6b91cc719",
   "metadata": {},
   "source": [
    "q_idf * dot(q_tf, d_tf[i]) * 1.5 / (dot(q_tf, d_tf[i]) + 0.25 + 0.75 * d_num_words[i] / d_num_words.mean())"
   ]
  },
  {
   "cell_type": "markdown",
   "id": "ccc62ac3-1284-41cd-b977-561e9e8791a9",
   "metadata": {},
   "source": [
    "## まとめ\n",
    "- Term frequencyは最も重要であり、最も意味のある単語に適切な重みを与えるために、IDF（Inverse document frequency）で重み付けする必要がある。\n",
    "- ジップの法則は、単語、文字、人など、あらゆる種類のものの頻度を予測するのに役立ちます。\n",
    "- TF-IDF単語ドキュメントマトリックスの行は、それらの個々の単語の意味のベクトル表現として使用して、単語セマンティクスのベクトル空間モデルを作成できます。\n",
    "- ベクトル間の「オーバーラップ」の量であるコサイン距離は、正規化されたベクトルの要素を乗算し、それらの積を合計するだけで効率的に計算できます\n",
    "- コサイン距離は、ほとんどの自然言語ベクトル表現の頼りになる類似性スコアです。"
   ]
  },
  {
   "cell_type": "code",
   "execution_count": null,
   "id": "3d3eeb97-f3ef-4dbb-8f66-7f08ea1a37ed",
   "metadata": {},
   "outputs": [],
   "source": []
  }
 ],
 "metadata": {
  "kernelspec": {
   "display_name": "Python 3",
   "language": "python",
   "name": "python3"
  },
  "language_info": {
   "codemirror_mode": {
    "name": "ipython",
    "version": 3
   },
   "file_extension": ".py",
   "mimetype": "text/x-python",
   "name": "python",
   "nbconvert_exporter": "python",
   "pygments_lexer": "ipython3",
   "version": "3.9.1"
  }
 },
 "nbformat": 4,
 "nbformat_minor": 5
}
