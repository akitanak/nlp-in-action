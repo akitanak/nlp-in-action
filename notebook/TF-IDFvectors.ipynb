{
 "cells": [
  {
   "cell_type": "markdown",
   "id": "0dd990c6-d1dc-48ec-a05e-eb59c7b8b636",
   "metadata": {},
   "source": [
    "# Natural Language Processing in Action"
   ]
  },
  {
   "cell_type": "markdown",
   "id": "96e7263a-b341-4b3f-8f10-64cfb1718a6c",
   "metadata": {},
   "source": [
    "## 3. Math with words (TF-IDF vectors)"
   ]
  },
  {
   "cell_type": "markdown",
   "id": "e735b9a3-afe6-4871-95e0-07e3ffad4815",
   "metadata": {},
   "source": [
    "### 3.1 Bag of words"
   ]
  },
  {
   "cell_type": "markdown",
   "id": "5aedb1a3-f65f-4d78-aa41-e36f6a188742",
   "metadata": {},
   "source": [
    "wordの出現回数をカウントしてみる。"
   ]
  },
  {
   "cell_type": "code",
   "execution_count": 1,
   "id": "d145ee66-b507-4faf-a3b9-c95e6c4aaf3a",
   "metadata": {},
   "outputs": [],
   "source": [
    "from nltk.tokenize import TreebankWordTokenizer"
   ]
  },
  {
   "cell_type": "code",
   "execution_count": 2,
   "id": "27129d10-e6af-458e-9990-5f848f679deb",
   "metadata": {},
   "outputs": [],
   "source": [
    "sentence = \"The faster Harry got to the store, the faster Harry, the faster, would get home.\""
   ]
  },
  {
   "cell_type": "code",
   "execution_count": 3,
   "id": "0019a919-81ab-42f7-91d9-339fe8ee2190",
   "metadata": {},
   "outputs": [],
   "source": [
    "tokenizer = TreebankWordTokenizer()\n",
    "tokens = tokenizer.tokenize(sentence.lower())"
   ]
  },
  {
   "cell_type": "code",
   "execution_count": 5,
   "id": "9c1a24f7-ca8b-4ec8-810f-48695eb6e2cd",
   "metadata": {},
   "outputs": [],
   "source": [
    "from collections import Counter\n",
    "bag_of_words = Counter(tokens)"
   ]
  },
  {
   "cell_type": "code",
   "execution_count": 6,
   "id": "fdf3809e-5469-48bd-a009-ad7613c4d92c",
   "metadata": {},
   "outputs": [
    {
     "data": {
      "text/plain": [
       "Counter({'the': 4,\n",
       "         'faster': 3,\n",
       "         'harry': 2,\n",
       "         'got': 1,\n",
       "         'to': 1,\n",
       "         'store': 1,\n",
       "         ',': 3,\n",
       "         'would': 1,\n",
       "         'get': 1,\n",
       "         'home': 1,\n",
       "         '.': 1})"
      ]
     },
     "execution_count": 6,
     "metadata": {},
     "output_type": "execute_result"
    }
   ],
   "source": [
    "bag_of_words"
   ]
  },
  {
   "cell_type": "code",
   "execution_count": 7,
   "id": "123a07d0-9426-4d69-9013-4ec469388c48",
   "metadata": {},
   "outputs": [
    {
     "data": {
      "text/plain": [
       "[('the', 4), ('faster', 3), (',', 3), ('harry', 2)]"
      ]
     },
     "execution_count": 7,
     "metadata": {},
     "output_type": "execute_result"
    }
   ],
   "source": [
    "bag_of_words.most_common(4)"
   ]
  },
  {
   "cell_type": "markdown",
   "id": "fb530585-a516-4f74-80fa-48eedef0cc82",
   "metadata": {},
   "source": [
    "与えられたドキュメント内のwordの出現回数を Term Frequency (TF) と呼ぶ。\n",
    "多くの場合、ドキュメント内の単語数で割ることで正規化する。"
   ]
  },
  {
   "cell_type": "code",
   "execution_count": 8,
   "id": "a6bfbe65-4991-4498-a2ec-3b174f707ac3",
   "metadata": {},
   "outputs": [
    {
     "data": {
      "text/plain": [
       "0.1818"
      ]
     },
     "execution_count": 8,
     "metadata": {},
     "output_type": "execute_result"
    }
   ],
   "source": [
    "times_harry_appears = bag_of_words[\"harry\"]\n",
    "num_unique_words = len(bag_of_words)\n",
    "tf = times_harry_appears / num_unique_words\n",
    "round(tf, 4)"
   ]
  },
  {
   "cell_type": "code",
   "execution_count": 9,
   "id": "032c5f04-dacb-479f-a2e5-a0485dcdb9aa",
   "metadata": {},
   "outputs": [],
   "source": [
    "kite_text = \"A kite is traditionally a tethered heavier-than-air craft with wing surfaces that react against the air to create lift and drag. A kite consists of wings, tethers, and anchors. Kites often have a bridle to guide the face of the kite at the correct angle so the wind can lift it. A kite's wing also may be so designed so a bridle is not needed; when kiting a sailplane for launch, the tether meets the wing at a single point. A kite may have fixed or moving anchors. Untraditionally in technical kiting, a kite consists of tether-set-coupled wing sets; even in technical kiting, though, a wing in the system is still often called the kite. The lift that sustains the kite in flight is generated when air flows around the kite's surface, producing low pressure above and high pressure below the wings. The interaction with the wind also generates horizontal drag along the direction of the wind. The resultant force vector from the lift and drag force components is opposed by the tension of one or more of the lines or tethers to which the kite is attached. The anchor point of the kite line may be static or moving (e.g., the towing of a kite by a running person, boat, free-falling anchors as in paragliders and fugitive parakites or vehicle). The same principles of fluid flow apply in liquids and kites are also used under water. A hybrid tethered craft comprising both a lighter-than-air balloon as well as a kite lifting surface is called a kytoon. Kites have a long and varied history and many different types are flown individually and at festivals worldwide. Kites may be flown for recreation, art or other practical uses. Sport kites can be flown in aerial ballet, sometimes as part of a competition. Power kites are multi-line steerable kites designed to generate large forces which can be used to power activities such as kite surfing, kite landboarding, kite fishing, kite buggying and a new trend snow kiting. Even Man-lifting kites have been made.\""
   ]
  },
  {
   "cell_type": "code",
   "execution_count": 10,
   "id": "045795b1-c5ff-4fe4-8784-a9fa82f17ebe",
   "metadata": {},
   "outputs": [],
   "source": [
    "tokenizer = TreebankWordTokenizer()\n",
    "tokens = tokenizer.tokenize(kite_text.lower())\n",
    "tokens_counts = Counter(tokens)"
   ]
  },
  {
   "cell_type": "code",
   "execution_count": 12,
   "id": "5749a2dc-9f29-4c2a-82e9-23744c8eedae",
   "metadata": {},
   "outputs": [
    {
     "data": {
      "text/plain": [
       "True"
      ]
     },
     "execution_count": 12,
     "metadata": {},
     "output_type": "execute_result"
    }
   ],
   "source": [
    "import nltk\n",
    "nltk.download(\"stopwords\", quiet=True)"
   ]
  },
  {
   "cell_type": "code",
   "execution_count": 13,
   "id": "31be66cc-6a90-4af2-81f1-c48dae560acc",
   "metadata": {},
   "outputs": [],
   "source": [
    "stopwords = nltk.corpus.stopwords.words(\"english\")\n",
    "tokens = [w for w in tokens if w not in stopwords]\n",
    "kite_counts = Counter(tokens)"
   ]
  },
  {
   "cell_type": "code",
   "execution_count": 17,
   "id": "4b478dbe-7e73-4881-b909-de135a43fd40",
   "metadata": {},
   "outputs": [
    {
     "data": {
      "text/plain": [
       "[('kite', 16),\n",
       " (',', 15),\n",
       " ('kites', 8),\n",
       " ('wing', 5),\n",
       " ('lift', 4),\n",
       " ('may', 4),\n",
       " ('also', 3),\n",
       " ('kiting', 3),\n",
       " ('flown', 3),\n",
       " ('tethered', 2)]"
      ]
     },
     "execution_count": 17,
     "metadata": {},
     "output_type": "execute_result"
    }
   ],
   "source": [
    "kite_counts.most_common(10)"
   ]
  },
  {
   "cell_type": "markdown",
   "id": "86ab2652-7a8d-4914-84ee-b9e602909066",
   "metadata": {},
   "source": [
    "### 3.2 Vectorizing"
   ]
  },
  {
   "cell_type": "code",
   "execution_count": 18,
   "id": "858f4f86-d7b8-4ba9-a74a-eb6c4ce75a91",
   "metadata": {},
   "outputs": [],
   "source": [
    "document_vector = []\n",
    "doc_length = len(tokens)\n",
    "for key, value in kite_counts.most_common():\n",
    "    document_vector.append(value / doc_length)"
   ]
  },
  {
   "cell_type": "code",
   "execution_count": 23,
   "id": "c342f94e-bfc5-42a1-90b3-2f1d55722666",
   "metadata": {},
   "outputs": [],
   "source": [
    "docs = [\"The faster Harry got to the store, the faster and faster Harry would get home.\"]\n",
    "docs.append(\"Harry is hairy and faster than Jill.\")\n",
    "docs.append(\"Jill is not as hairy as Harry.\")\n",
    "\n",
    "doc_tokens = [sorted(tokenizer.tokenize(doc.lower())) for doc in docs]"
   ]
  },
  {
   "cell_type": "code",
   "execution_count": 24,
   "id": "e0302e3e-6c95-4680-80cc-b61e242897d7",
   "metadata": {},
   "outputs": [
    {
     "data": {
      "text/plain": [
       "17"
      ]
     },
     "execution_count": 24,
     "metadata": {},
     "output_type": "execute_result"
    }
   ],
   "source": [
    "len(doc_tokens[0])"
   ]
  },
  {
   "cell_type": "code",
   "execution_count": 25,
   "id": "d45be625-5887-4d24-be4e-8789c665872c",
   "metadata": {},
   "outputs": [
    {
     "data": {
      "text/plain": [
       "33"
      ]
     },
     "execution_count": 25,
     "metadata": {},
     "output_type": "execute_result"
    }
   ],
   "source": [
    "all_doc_tokens = sum(doc_tokens, [])\n",
    "len(all_doc_tokens)"
   ]
  },
  {
   "cell_type": "code",
   "execution_count": 26,
   "id": "60ae70b5-40f2-4574-bb2e-d43024fc8d90",
   "metadata": {},
   "outputs": [
    {
     "data": {
      "text/plain": [
       "[',',\n",
       " '.',\n",
       " 'and',\n",
       " 'as',\n",
       " 'faster',\n",
       " 'get',\n",
       " 'got',\n",
       " 'hairy',\n",
       " 'harry',\n",
       " 'home',\n",
       " 'is',\n",
       " 'jill',\n",
       " 'not',\n",
       " 'store',\n",
       " 'than',\n",
       " 'the',\n",
       " 'to',\n",
       " 'would']"
      ]
     },
     "execution_count": 26,
     "metadata": {},
     "output_type": "execute_result"
    }
   ],
   "source": [
    "lexicon = sorted(set(all_doc_tokens))\n",
    "len(lexicon)\n",
    "lexicon"
   ]
  },
  {
   "cell_type": "code",
   "execution_count": 27,
   "id": "b2be855e-fc38-4ccd-bfa8-c6fd9257c585",
   "metadata": {},
   "outputs": [],
   "source": [
    "from collections import OrderedDict\n",
    "import copy\n",
    "\n",
    "zero_vector = OrderedDict((token, 0) for token in lexicon)\n",
    "doc_vectors = []\n",
    "for doc in docs:\n",
    "    vec = copy.copy(zero_vector)\n",
    "    tokens = tokenizer.tokenize(doc.lower())\n",
    "    token_counts = Counter(tokens)\n",
    "    for key, value in token_counts.items():\n",
    "        vec[key] = value / len(lexicon)\n",
    "    doc_vectors.append(vec)"
   ]
  },
  {
   "cell_type": "code",
   "execution_count": 28,
   "id": "9700ca8e-c9c5-4843-8ce3-fd3aa5371007",
   "metadata": {},
   "outputs": [
    {
     "data": {
      "text/plain": [
       "[OrderedDict([(',', 0.05555555555555555),\n",
       "              ('.', 0.05555555555555555),\n",
       "              ('and', 0.05555555555555555),\n",
       "              ('as', 0),\n",
       "              ('faster', 0.16666666666666666),\n",
       "              ('get', 0.05555555555555555),\n",
       "              ('got', 0.05555555555555555),\n",
       "              ('hairy', 0),\n",
       "              ('harry', 0.1111111111111111),\n",
       "              ('home', 0.05555555555555555),\n",
       "              ('is', 0),\n",
       "              ('jill', 0),\n",
       "              ('not', 0),\n",
       "              ('store', 0.05555555555555555),\n",
       "              ('than', 0),\n",
       "              ('the', 0.16666666666666666),\n",
       "              ('to', 0.05555555555555555),\n",
       "              ('would', 0.05555555555555555)]),\n",
       " OrderedDict([(',', 0),\n",
       "              ('.', 0.05555555555555555),\n",
       "              ('and', 0.05555555555555555),\n",
       "              ('as', 0),\n",
       "              ('faster', 0.05555555555555555),\n",
       "              ('get', 0),\n",
       "              ('got', 0),\n",
       "              ('hairy', 0.05555555555555555),\n",
       "              ('harry', 0.05555555555555555),\n",
       "              ('home', 0),\n",
       "              ('is', 0.05555555555555555),\n",
       "              ('jill', 0.05555555555555555),\n",
       "              ('not', 0),\n",
       "              ('store', 0),\n",
       "              ('than', 0.05555555555555555),\n",
       "              ('the', 0),\n",
       "              ('to', 0),\n",
       "              ('would', 0)]),\n",
       " OrderedDict([(',', 0),\n",
       "              ('.', 0.05555555555555555),\n",
       "              ('and', 0),\n",
       "              ('as', 0.1111111111111111),\n",
       "              ('faster', 0),\n",
       "              ('get', 0),\n",
       "              ('got', 0),\n",
       "              ('hairy', 0.05555555555555555),\n",
       "              ('harry', 0.05555555555555555),\n",
       "              ('home', 0),\n",
       "              ('is', 0.05555555555555555),\n",
       "              ('jill', 0.05555555555555555),\n",
       "              ('not', 0.05555555555555555),\n",
       "              ('store', 0),\n",
       "              ('than', 0),\n",
       "              ('the', 0),\n",
       "              ('to', 0),\n",
       "              ('would', 0)])]"
      ]
     },
     "execution_count": 28,
     "metadata": {},
     "output_type": "execute_result"
    }
   ],
   "source": [
    "doc_vectors"
   ]
  },
  {
   "cell_type": "markdown",
   "id": "4629fc70-7d90-4f85-958e-5e5bccdcc236",
   "metadata": {},
   "source": [
    "#### 3.2.1 Vector spaces"
   ]
  },
  {
   "cell_type": "code",
   "execution_count": null,
   "id": "33da1fa3-4864-471d-863b-ac66d9948991",
   "metadata": {},
   "outputs": [],
   "source": []
  }
 ],
 "metadata": {
  "kernelspec": {
   "display_name": "Python 3",
   "language": "python",
   "name": "python3"
  },
  "language_info": {
   "codemirror_mode": {
    "name": "ipython",
    "version": 3
   },
   "file_extension": ".py",
   "mimetype": "text/x-python",
   "name": "python",
   "nbconvert_exporter": "python",
   "pygments_lexer": "ipython3",
   "version": "3.9.1"
  }
 },
 "nbformat": 4,
 "nbformat_minor": 5
}
